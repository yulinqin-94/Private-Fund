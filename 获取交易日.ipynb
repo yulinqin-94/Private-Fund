{
 "cells": [
  {
   "cell_type": "markdown",
   "metadata": {},
   "source": [
    "### Q4交易日"
   ]
  },
  {
   "cell_type": "code",
   "execution_count": null,
   "metadata": {},
   "outputs": [],
   "source": [
    "calendarFile = './calendar.txt'\n",
    "\n",
    "def Cal_2020Q4(startDTE, endDTE):\n",
    "    datelist = []\n",
    "    with open(calendarFile,'r') as f:\n",
    "        for x in f.readlines():\n",
    "            if len(x) >= 23:\n",
    "                temp = int(x[0:8])\n",
    "                if startDTE<=temp<=endDTE:\n",
    "                    datelist.append(temp)\n",
    "    return datelist\n",
    "            \n",
    "startDTE = 20201009\n",
    "endDTE = 20201231\n",
    "datelist = Cal_2020Q4(startDTE, endDTE)\n",
    "for dte in datelist:\n",
    "    print(dte)"
   ]
  }
 ],
 "metadata": {
  "kernelspec": {
   "display_name": "Python 3",
   "language": "python",
   "name": "python3"
  },
  "language_info": {
   "codemirror_mode": {
    "name": "ipython",
    "version": 3
   },
   "file_extension": ".py",
   "mimetype": "text/x-python",
   "name": "python",
   "nbconvert_exporter": "python",
   "pygments_lexer": "ipython3",
   "version": "3.7.1"
  }
 },
 "nbformat": 4,
 "nbformat_minor": 4
}
