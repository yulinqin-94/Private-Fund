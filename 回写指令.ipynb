{
 "cells": [
  {
   "cell_type": "markdown",
   "metadata": {},
   "source": [
    "### 回写指令"
   ]
  },
  {
   "cell_type": "code",
   "execution_count": null,
   "metadata": {},
   "outputs": [],
   "source": [
    "#coding:gbk\n",
    "\n",
    "import cx_Oracle, os, csv\n",
    "import pandas as pd\n",
    "import numpy as np\n",
    "from pandas import DataFrame\n",
    "conn = cx_Oracle.connect(' ',' ',' ') # sql info\n",
    "\n",
    "def _exec_sql(sql):\n",
    "    cursor = conn.cursor()\n",
    "    cursor.execute(sql)\n",
    "    conn.commit()\n",
    "    \n",
    "def Update_SQL(new_DETLASHARE,accountid,SoF,dte,tkr):\n",
    "    updatesql = \" update instructs_algo set DETLASHARE={} where accountid like '%{}%{}' and dte={} and tkr='{}' and traderid=102\".format(new_DETLASHARE,accountid,SoF,dte,tkr)\n",
    "    _exec_sql(updatesql)\n",
    "    sql = \" select dte,accountid,tkr,detlashare from instructs_algo where accountid like '%{}%{}' and dte={} and tkr='{}' and traderid=102\".format(accountid,SoF,dte,tkr)\n",
    "    df_instr = pd.read_sql(sql,conn)\n",
    "    print(df_instr.values)\n",
    "    \n",
    "def Modify_instr(dte, accountid, SoF):\n",
    "    # 实际\n",
    "    sql = \"select tkr,sum(qty),side from transactions_algo where dte={} and accountid like '%{}%{}' group by tkr,side\".format(dte,accountid,SoF)\n",
    "    df_trans = pd.read_sql(sql,conn)\n",
    "    for i in range(df_trans.shape[0]):\n",
    "        if df_trans.values[i][np.where(df_trans.columns == 'SIDE')][0] == 'S':\n",
    "            new_DETLASHARE = -df_trans.values[i][np.where(df_trans.columns == 'SUM(QTY)')][0]\n",
    "        elif df_trans.values[i][np.where(df_trans.columns == 'SIDE')][0] == 'B':\n",
    "            new_DETLASHARE = df_trans.values[i][np.where(df_trans.columns == 'SUM(QTY)')][0]\n",
    "        tkr = df_trans.values[i][np.where(df_trans.columns == 'TKR')][0]\n",
    "        print(df_trans.values[i])\n",
    "        print(new_DETLASHARE)\n",
    "        Update_SQL(new_DETLASHARE,accountid,SoF,dte,tkr)\n",
    "    print('done!')\n",
    "    \n",
    "if __name__ == '__main__':\n",
    "\n",
    "    dte = str(20201218)\n",
    "    accountid = 'CY53H'\n",
    "    SoF = 'S'\n",
    "    \n",
    "    Modify_instr(dte, accountid, SoF)"
   ]
  }
 ],
 "metadata": {
  "kernelspec": {
   "display_name": "Python 3",
   "language": "python",
   "name": "python3"
  },
  "language_info": {
   "codemirror_mode": {
    "name": "ipython",
    "version": 3
   },
   "file_extension": ".py",
   "mimetype": "text/x-python",
   "name": "python",
   "nbconvert_exporter": "python",
   "pygments_lexer": "ipython3",
   "version": "3.7.1"
  }
 },
 "nbformat": 4,
 "nbformat_minor": 4
}
